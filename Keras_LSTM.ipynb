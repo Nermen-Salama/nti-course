{
  "nbformat": 4,
  "nbformat_minor": 0,
  "metadata": {
    "colab": {
      "name": "Keras_LSTM.ipynb",
      "provenance": [],
      "include_colab_link": true
    },
    "kernelspec": {
      "name": "python3",
      "display_name": "Python 3"
    }
  },
  "cells": [
    {
      "cell_type": "markdown",
      "metadata": {
        "id": "view-in-github",
        "colab_type": "text"
      },
      "source": [
        "<a href=\"https://colab.research.google.com/github/Nermen-Salama/nti-course/blob/main/Keras_LSTM.ipynb\" target=\"_parent\"><img src=\"https://colab.research.google.com/assets/colab-badge.svg\" alt=\"Open In Colab\"/></a>"
      ]
    },
    {
      "cell_type": "markdown",
      "metadata": {
        "id": "l_Drb3jV89AC"
      },
      "source": [
        "14. Keras ― Time Series Prediction using LSTM RNN\n",
        "\n",
        "Input layer using Embedding layer with 128 features.\n",
        "\n",
        " First layer, Dense consists of 128 units with normal dropout and recurrent dropout set to 0.2.\n",
        "\n",
        " Output layer, Dense consists of 1 unit and ‘sigmoid’ activation function.\n",
        "\n",
        " Use binary_crossentropy as loss function.\n",
        "\n",
        " Use adam as Optimizer.\n",
        "\n",
        " Use accuracy as metrics.\n",
        "\n",
        "Use 32 as batch size.\n",
        "\n",
        " Use 15 as epochs.\n",
        "\n",
        " Use 80 as the maximum length of the word.\n",
        "\n",
        " Use 2000 as the maximum number of word in a given sentence."
      ]
    },
    {
      "cell_type": "markdown",
      "metadata": {
        "id": "cIccafsX9fpc"
      },
      "source": [
        "Step 1: Import the modules"
      ]
    },
    {
      "cell_type": "code",
      "metadata": {
        "id": "DJCdznUl9AIB"
      },
      "source": [
        "from keras.preprocessing import sequence \n",
        "from keras.models import Sequential \n",
        "from keras.layers import Dense, Embedding \n",
        "from keras.layers import LSTM \n",
        "from keras.datasets import imdb"
      ],
      "execution_count": null,
      "outputs": []
    },
    {
      "cell_type": "markdown",
      "metadata": {
        "id": "73VHdbSO9rjZ"
      },
      "source": [
        "Step 2: Load data"
      ]
    },
    {
      "cell_type": "code",
      "metadata": {
        "colab": {
          "base_uri": "https://localhost:8080/"
        },
        "id": "t-qvpo-P939I",
        "outputId": "f9399069-cd3a-4e09-d1b2-37f433651fe2"
      },
      "source": [
        "(x_train, y_train), (x_test, y_test) = imdb.load_data(num_words=2000)"
      ],
      "execution_count": null,
      "outputs": [
        {
          "output_type": "stream",
          "text": [
            "Downloading data from https://storage.googleapis.com/tensorflow/tf-keras-datasets/imdb.npz\n",
            "17465344/17464789 [==============================] - 0s 0us/step\n"
          ],
          "name": "stdout"
        }
      ]
    },
    {
      "cell_type": "code",
      "metadata": {
        "colab": {
          "base_uri": "https://localhost:8080/"
        },
        "id": "9r2fn3pMOI2F",
        "outputId": "19198be4-8b82-486d-c416-d9bc82eabc13"
      },
      "source": [
        "x_train"
      ],
      "execution_count": null,
      "outputs": [
        {
          "output_type": "execute_result",
          "data": {
            "text/plain": [
              "array([[  15,  256,    4, ...,   19,  178,   32],\n",
              "       [ 125,   68,    2, ...,   16,  145,   95],\n",
              "       [ 645,  662,    8, ...,    7,  129,  113],\n",
              "       ...,\n",
              "       [ 529,  443,    2, ...,    4,    2,    2],\n",
              "       [ 286, 1814,   23, ...,   12,    9,   23],\n",
              "       [  97,   90,   35, ...,  204,  131,    9]], dtype=int32)"
            ]
          },
          "metadata": {
            "tags": []
          },
          "execution_count": 9
        }
      ]
    },
    {
      "cell_type": "code",
      "metadata": {
        "colab": {
          "base_uri": "https://localhost:8080/"
        },
        "id": "Mz4JIE19OX1s",
        "outputId": "01d9358c-56f4-4da4-ef10-b05db7b10aaf"
      },
      "source": [
        "x_train.shape"
      ],
      "execution_count": null,
      "outputs": [
        {
          "output_type": "execute_result",
          "data": {
            "text/plain": [
              "(25000, 80)"
            ]
          },
          "metadata": {
            "tags": []
          },
          "execution_count": 11
        }
      ]
    },
    {
      "cell_type": "code",
      "metadata": {
        "colab": {
          "base_uri": "https://localhost:8080/"
        },
        "id": "5iZaUvhcOSJk",
        "outputId": "6124a9da-af41-4745-8e17-f547fb6b6dda"
      },
      "source": [
        "y_train"
      ],
      "execution_count": null,
      "outputs": [
        {
          "output_type": "execute_result",
          "data": {
            "text/plain": [
              "array([1, 0, 0, ..., 0, 1, 0])"
            ]
          },
          "metadata": {
            "tags": []
          },
          "execution_count": 10
        }
      ]
    },
    {
      "cell_type": "markdown",
      "metadata": {
        "id": "Cec4BRwT-ElC"
      },
      "source": [
        "Step 3: Process the data"
      ]
    },
    {
      "cell_type": "code",
      "metadata": {
        "id": "HbljoYz6-F5K"
      },
      "source": [
        "x_train = sequence.pad_sequences(x_train, maxlen=80) \n",
        "x_test = sequence.pad_sequences(x_test, maxlen=80)"
      ],
      "execution_count": null,
      "outputs": []
    },
    {
      "cell_type": "markdown",
      "metadata": {
        "id": "bzHbQCeH-Lxh"
      },
      "source": [
        "Step 4: Create the model"
      ]
    },
    {
      "cell_type": "code",
      "metadata": {
        "id": "BYYyM4yN-Vbx"
      },
      "source": [
        "model = Sequential() \n",
        "model.add(Embedding(2000, 128)) \n",
        "model.add(LSTM(128, dropout=0.2, recurrent_dropout=0.2)) \n",
        "model.add(Dense(1, activation='sigmoid'))"
      ],
      "execution_count": null,
      "outputs": []
    },
    {
      "cell_type": "markdown",
      "metadata": {
        "id": "CC6Dydq9-kZL"
      },
      "source": [
        "Step 5: Compile the model"
      ]
    },
    {
      "cell_type": "code",
      "metadata": {
        "id": "3LSvK95I-sSy"
      },
      "source": [
        "model.compile(loss='binary_crossentropy', optimizer='adam', metrics=['accuracy'])"
      ],
      "execution_count": null,
      "outputs": []
    },
    {
      "cell_type": "markdown",
      "metadata": {
        "id": "n0UFVjwX-xKB"
      },
      "source": [
        "Step 6: Train the model"
      ]
    },
    {
      "cell_type": "code",
      "metadata": {
        "colab": {
          "base_uri": "https://localhost:8080/"
        },
        "id": "Fm1HJPrR-1Yz",
        "outputId": "54b40c7a-2ce2-4569-a4ef-cf267ed5de65"
      },
      "source": [
        "model.fit(x_train, y_train, batch_size=32, epochs=15, validation_data=(x_test, y_test))"
      ],
      "execution_count": null,
      "outputs": [
        {
          "output_type": "stream",
          "text": [
            "Epoch 1/15\n",
            "782/782 [==============================] - 199s 254ms/step - loss: 0.4604 - accuracy: 0.7799 - val_loss: 0.4087 - val_accuracy: 0.8158\n",
            "Epoch 2/15\n",
            "782/782 [==============================] - 199s 255ms/step - loss: 0.3606 - accuracy: 0.8402 - val_loss: 0.3703 - val_accuracy: 0.8348\n",
            "Epoch 3/15\n",
            "782/782 [==============================] - 200s 256ms/step - loss: 0.3269 - accuracy: 0.8584 - val_loss: 0.3632 - val_accuracy: 0.8401\n",
            "Epoch 4/15\n",
            "782/782 [==============================] - 200s 256ms/step - loss: 0.2934 - accuracy: 0.8751 - val_loss: 0.3690 - val_accuracy: 0.8402\n",
            "Epoch 5/15\n",
            "782/782 [==============================] - 200s 255ms/step - loss: 0.2655 - accuracy: 0.8873 - val_loss: 0.4404 - val_accuracy: 0.8294\n",
            "Epoch 6/15\n",
            "782/782 [==============================] - 200s 256ms/step - loss: 0.2392 - accuracy: 0.9021 - val_loss: 0.4375 - val_accuracy: 0.8142\n",
            "Epoch 7/15\n",
            "782/782 [==============================] - 200s 256ms/step - loss: 0.2189 - accuracy: 0.9092 - val_loss: 0.4103 - val_accuracy: 0.8243\n",
            "Epoch 8/15\n",
            "782/782 [==============================] - 200s 256ms/step - loss: 0.1950 - accuracy: 0.9215 - val_loss: 0.4261 - val_accuracy: 0.8301\n",
            "Epoch 9/15\n",
            "782/782 [==============================] - 201s 257ms/step - loss: 0.1725 - accuracy: 0.9314 - val_loss: 0.5091 - val_accuracy: 0.8239\n",
            "Epoch 10/15\n",
            "782/782 [==============================] - 201s 257ms/step - loss: 0.1519 - accuracy: 0.9393 - val_loss: 0.5403 - val_accuracy: 0.8233\n",
            "Epoch 11/15\n",
            "782/782 [==============================] - 200s 256ms/step - loss: 0.1369 - accuracy: 0.9452 - val_loss: 0.6481 - val_accuracy: 0.8193\n",
            "Epoch 12/15\n",
            "782/782 [==============================] - 196s 251ms/step - loss: 0.1215 - accuracy: 0.9553 - val_loss: 0.5713 - val_accuracy: 0.8226\n",
            "Epoch 13/15\n",
            "782/782 [==============================] - 195s 250ms/step - loss: 0.1057 - accuracy: 0.9611 - val_loss: 0.6215 - val_accuracy: 0.8214\n",
            "Epoch 14/15\n",
            "782/782 [==============================] - 195s 250ms/step - loss: 0.0962 - accuracy: 0.9650 - val_loss: 0.7051 - val_accuracy: 0.8245\n",
            "Epoch 15/15\n",
            "782/782 [==============================] - 198s 253ms/step - loss: 0.0827 - accuracy: 0.9698 - val_loss: 0.7534 - val_accuracy: 0.8220\n"
          ],
          "name": "stdout"
        },
        {
          "output_type": "execute_result",
          "data": {
            "text/plain": [
              "<tensorflow.python.keras.callbacks.History at 0x7fcbf59d0828>"
            ]
          },
          "metadata": {
            "tags": []
          },
          "execution_count": 7
        }
      ]
    },
    {
      "cell_type": "markdown",
      "metadata": {
        "id": "oxg8j_E8_Bwp"
      },
      "source": [
        "Step 7: Evaluate the model"
      ]
    },
    {
      "cell_type": "code",
      "metadata": {
        "colab": {
          "base_uri": "https://localhost:8080/"
        },
        "id": "uR21bCaM_GoZ",
        "outputId": "d9714193-11f0-4b1c-bd21-093433a4eaeb"
      },
      "source": [
        "score, acc = model.evaluate(x_test, y_test, batch_size=32) \n",
        "print('Test score:', score) \n",
        "print('Test accuracy:', acc)"
      ],
      "execution_count": null,
      "outputs": [
        {
          "output_type": "stream",
          "text": [
            "782/782 [==============================] - 21s 27ms/step - loss: 0.7534 - accuracy: 0.8220\n",
            "Test score: 0.7534009218215942\n",
            "Test accuracy: 0.8219599723815918\n"
          ],
          "name": "stdout"
        }
      ]
    },
    {
      "cell_type": "markdown",
      "metadata": {
        "id": "9J85f1yJ_Mys"
      },
      "source": [
        ""
      ]
    }
  ]
}